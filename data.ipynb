{
 "cells": [
  {
   "cell_type": "markdown",
   "metadata": {},
   "source": [
    "# 1. Load and Explore the Dataset"
   ]
  },
  {
   "cell_type": "code",
   "execution_count": 358,
   "metadata": {},
   "outputs": [],
   "source": [
    "import pandas as pd \n",
    "import matplotlib.pyplot as plt\n",
    "import seaborn as sns"
   ]
  },
  {
   "cell_type": "code",
   "execution_count": 359,
   "metadata": {},
   "outputs": [],
   "source": [
    "df = pd.read_csv(\"data.csv\")\n"
   ]
  },
  {
   "cell_type": "markdown",
   "metadata": {},
   "source": [
    "### Data Exploration"
   ]
  },
  {
   "cell_type": "code",
   "execution_count": 360,
   "metadata": {},
   "outputs": [
    {
     "name": "stdout",
     "output_type": "stream",
     "text": [
      "First 5 rows of the dataset:\n",
      "                          status_id status_type status_published  \\\n",
      "0  246675545449582_1649696485147474       video   4/22/2018 6:00   \n",
      "1  246675545449582_1649426988507757       photo  4/21/2018 22:45   \n",
      "2  246675545449582_1648730588577397       video   4/21/2018 6:17   \n",
      "3  246675545449582_1648576705259452       photo   4/21/2018 2:29   \n",
      "4  246675545449582_1645700502213739       photo   4/18/2018 3:22   \n",
      "\n",
      "   num_reactions  num_comments  num_shares  num_likes  num_loves  num_wows  \\\n",
      "0            529           512         262        432         92         3   \n",
      "1            150             0           0        150          0         0   \n",
      "2            227           236          57        204         21         1   \n",
      "3            111             0           0        111          0         0   \n",
      "4            213             0           0        204          9         0   \n",
      "\n",
      "   num_hahas  num_sads  num_angrys  Column1  Column2  Column3  Column4  \n",
      "0          1         1           0      NaN      NaN      NaN      NaN  \n",
      "1          0         0           0      NaN      NaN      NaN      NaN  \n",
      "2          1         0           0      NaN      NaN      NaN      NaN  \n",
      "3          0         0           0      NaN      NaN      NaN      NaN  \n",
      "4          0         0           0      NaN      NaN      NaN      NaN  \n"
     ]
    }
   ],
   "source": [
    "# Display the first few rows of the dataset\n",
    "print(\"First 5 rows of the dataset:\")\n",
    "print(df.head())"
   ]
  },
  {
   "cell_type": "code",
   "execution_count": 361,
   "metadata": {},
   "outputs": [
    {
     "name": "stdout",
     "output_type": "stream",
     "text": [
      "\n",
      "Basic information about the dataset:\n",
      "<class 'pandas.core.frame.DataFrame'>\n",
      "RangeIndex: 7050 entries, 0 to 7049\n",
      "Data columns (total 16 columns):\n",
      " #   Column            Non-Null Count  Dtype  \n",
      "---  ------            --------------  -----  \n",
      " 0   status_id         7050 non-null   object \n",
      " 1   status_type       7050 non-null   object \n",
      " 2   status_published  7050 non-null   object \n",
      " 3   num_reactions     7050 non-null   int64  \n",
      " 4   num_comments      7050 non-null   int64  \n",
      " 5   num_shares        7050 non-null   int64  \n",
      " 6   num_likes         7050 non-null   int64  \n",
      " 7   num_loves         7050 non-null   int64  \n",
      " 8   num_wows          7050 non-null   int64  \n",
      " 9   num_hahas         7050 non-null   int64  \n",
      " 10  num_sads          7050 non-null   int64  \n",
      " 11  num_angrys        7050 non-null   int64  \n",
      " 12  Column1           0 non-null      float64\n",
      " 13  Column2           0 non-null      float64\n",
      " 14  Column3           0 non-null      float64\n",
      " 15  Column4           0 non-null      float64\n",
      "dtypes: float64(4), int64(9), object(3)\n",
      "memory usage: 881.4+ KB\n",
      "None\n"
     ]
    }
   ],
   "source": [
    "# Display the basic information about the dataset (column names, non-null counts, data types)\n",
    "print(\"\\nBasic information about the dataset:\")\n",
    "print(df.info())"
   ]
  },
  {
   "cell_type": "code",
   "execution_count": 362,
   "metadata": {},
   "outputs": [
    {
     "name": "stdout",
     "output_type": "stream",
     "text": [
      "\n",
      "Missing values in each column:\n",
      "status_id              0\n",
      "status_type            0\n",
      "status_published       0\n",
      "num_reactions          0\n",
      "num_comments           0\n",
      "num_shares             0\n",
      "num_likes              0\n",
      "num_loves              0\n",
      "num_wows               0\n",
      "num_hahas              0\n",
      "num_sads               0\n",
      "num_angrys             0\n",
      "Column1             7050\n",
      "Column2             7050\n",
      "Column3             7050\n",
      "Column4             7050\n",
      "dtype: int64\n"
     ]
    }
   ],
   "source": [
    "# Check for missing values\n",
    "print(\"\\nMissing values in each column:\")\n",
    "print(df.isnull().sum())"
   ]
  },
  {
   "cell_type": "code",
   "execution_count": 363,
   "metadata": {},
   "outputs": [
    {
     "name": "stdout",
     "output_type": "stream",
     "text": [
      "\n",
      "Shape of the dataset (rows, columns):\n",
      "(7050, 16)\n"
     ]
    }
   ],
   "source": [
    "# Check the shape of the dataset (number of rows and columns)\n",
    "print(\"\\nShape of the dataset (rows, columns):\")\n",
    "print(df.shape)"
   ]
  },
  {
   "cell_type": "code",
   "execution_count": 364,
   "metadata": {},
   "outputs": [
    {
     "name": "stdout",
     "output_type": "stream",
     "text": [
      "\n",
      "Data types of each column:\n",
      "status_id            object\n",
      "status_type          object\n",
      "status_published     object\n",
      "num_reactions         int64\n",
      "num_comments          int64\n",
      "num_shares            int64\n",
      "num_likes             int64\n",
      "num_loves             int64\n",
      "num_wows              int64\n",
      "num_hahas             int64\n",
      "num_sads              int64\n",
      "num_angrys            int64\n",
      "Column1             float64\n",
      "Column2             float64\n",
      "Column3             float64\n",
      "Column4             float64\n",
      "dtype: object\n"
     ]
    }
   ],
   "source": [
    "# Display the data types of each column\n",
    "print(\"\\nData types of each column:\")\n",
    "print(df.dtypes)"
   ]
  },
  {
   "cell_type": "markdown",
   "metadata": {},
   "source": [
    "### Data Cleaning"
   ]
  },
  {
   "cell_type": "code",
   "execution_count": 365,
   "metadata": {},
   "outputs": [
    {
     "data": {
      "text/plain": [
       "(7050, 16)"
      ]
     },
     "execution_count": 365,
     "metadata": {},
     "output_type": "execute_result"
    }
   ],
   "source": [
    "df.shape\n"
   ]
  },
  {
   "cell_type": "code",
   "execution_count": 366,
   "metadata": {},
   "outputs": [
    {
     "name": "stdout",
     "output_type": "stream",
     "text": [
      "\n",
      "Missing values in each column:\n",
      "status_id           0\n",
      "status_type         0\n",
      "status_published    0\n",
      "num_reactions       0\n",
      "num_comments        0\n",
      "num_shares          0\n",
      "num_likes           0\n",
      "num_loves           0\n",
      "num_wows            0\n",
      "num_hahas           0\n",
      "num_sads            0\n",
      "num_angrys          0\n",
      "dtype: int64\n"
     ]
    }
   ],
   "source": [
    "#dropping empty colmns\n",
    "df=df.drop(labels=[\"Column1\",\"Column2\",\"Column3\",\"Column4\"], axis=1)\n",
    "# Check for missing values\n",
    "print(\"\\nMissing values in each column:\")\n",
    "print(df.isnull().sum())"
   ]
  },
  {
   "cell_type": "code",
   "execution_count": 367,
   "metadata": {},
   "outputs": [
    {
     "name": "stdout",
     "output_type": "stream",
     "text": [
      "duplicated rows:\n",
      "                             status_id status_type status_published  \\\n",
      "6221  819700534875473_1002372733274918       video   6/10/2018 3:43   \n",
      "6222  819700534875473_1001982519980606       photo   6/9/2018 22:53   \n",
      "6223  819700534875473_1000607730118085       photo    6/7/2018 7:01   \n",
      "6224   819700534875473_999880033524188      status    6/6/2018 2:20   \n",
      "6225   819700534875473_998824716963053       photo    6/4/2018 6:57   \n",
      "6226   819700534875473_997075427137982      status    6/1/2018 0:35   \n",
      "6227   819700534875473_995933077252217       photo   5/30/2018 6:33   \n",
      "6228   819700534875473_995839410594917       photo   5/30/2018 2:39   \n",
      "6229   819700534875473_995218893990302      status   5/29/2018 4:39   \n",
      "6230   819700534875473_993975437447981       photo   5/27/2018 1:31   \n",
      "6231   819700534875473_993602007485324      status   5/26/2018 8:08   \n",
      "6232   819700534875473_993049450873913       photo   5/25/2018 7:56   \n",
      "6233   819700534875473_991757311003127       photo   5/23/2018 1:10   \n",
      "6234   819700534875473_990066331172225       photo   5/20/2018 6:18   \n",
      "6235   819700534875473_988583821320476       photo  5/17/2018 20:00   \n",
      "6236   819700534875473_985229911655867       photo   5/12/2018 1:57   \n",
      "6237   819700534875473_984750728370452      status   5/11/2018 3:23   \n",
      "6238   819700534875473_983794271799431       photo    5/9/2018 8:45   \n",
      "6239   819700534875473_981835315328660       photo   5/5/2018 11:20   \n",
      "6240   819700534875473_980941638751361       photo   5/3/2018 23:57   \n",
      "6241   819700534875473_978746665637525      status   4/30/2018 6:20   \n",
      "6242   819700534875473_977201195792072       photo  4/27/2018 23:27   \n",
      "6243   819700534875473_976401089205416       photo  4/26/2018 19:00   \n",
      "6244   819700534875473_974461939399331       photo   4/23/2018 7:26   \n",
      "6245   819700534875473_972433889602136       photo   4/20/2018 3:16   \n",
      "6246   819700534875473_971940472984811       photo   4/19/2018 7:05   \n",
      "6247   819700534875473_968264653352393       photo   4/12/2018 3:42   \n",
      "6248   819700534875473_967787160066809       photo   4/11/2018 3:43   \n",
      "6249   819700534875473_966878030157722       photo   4/9/2018 10:49   \n",
      "6250   819700534875473_966629653515893       photo   4/8/2018 22:50   \n",
      "6251   819700534875473_966156923563166       photo    4/8/2018 1:08   \n",
      "6252   819700534875473_965614580284067       photo    4/7/2018 3:23   \n",
      "6253   819700534875473_965407870304738       photo   4/6/2018 16:34   \n",
      "6254   819700534875473_964582740387251       photo   4/5/2018 10:47   \n",
      "6255   819700534875473_963754250470100       photo    4/4/2018 2:20   \n",
      "6256   819700534875473_962799373898921       photo   4/2/2018 10:16   \n",
      "6257   819700534875473_962694150576110       photo    4/2/2018 7:33   \n",
      "6258   819700534875473_962061653972693       photo    4/1/2018 5:47   \n",
      "6259   819700534875473_962032993975559       photo    4/1/2018 4:32   \n",
      "6260   819700534875473_960466324132226       photo  3/29/2018 13:54   \n",
      "6261   819700534875473_960320564146802       photo   3/29/2018 8:23   \n",
      "6262   819700534875473_958291217683070       photo   3/26/2018 1:57   \n",
      "6263   819700534875473_957697307742461       photo   3/25/2018 4:43   \n",
      "6264   819700534875473_957599447752247       photo  3/24/2018 23:51   \n",
      "6265   819700534875473_956769714501887       photo  3/23/2018 15:53   \n",
      "6266   819700534875473_955793427932849       photo   3/22/2018 6:10   \n",
      "6267   819700534875473_955743124604546       photo   3/22/2018 3:48   \n",
      "6268   819700534875473_955149101330615       photo   3/21/2018 1:15   \n",
      "6269   819700534875473_954387151406810       photo   3/20/2018 1:54   \n",
      "6270   819700534875473_953048221540703       photo   3/18/2018 4:28   \n",
      "6271   819700534875473_951614605017398       photo   3/16/2018 1:57   \n",
      "\n",
      "      num_reactions  num_comments  num_shares  num_likes  num_loves  num_wows  \\\n",
      "6221            376            20           3        354         19         3   \n",
      "6222            255             7           4        249          6         0   \n",
      "6223           1704            21           3       1685         15         2   \n",
      "6224            205            39           4        197          4         4   \n",
      "6225            336            42           2        285          5         0   \n",
      "6226            111             2           1        110          1         0   \n",
      "6227            357            18           9        352          3         1   \n",
      "6228            114             7           0        109          3         2   \n",
      "6229            133             7           1        127          6         0   \n",
      "6230            532            32           4        480         47         5   \n",
      "6231            231            16           2        216          3         0   \n",
      "6232            684            38          14        676          7         0   \n",
      "6233           1627            30           3       1607         17         3   \n",
      "6234            791            34           2        770         16         5   \n",
      "6235           1404            39           5       1390         12         1   \n",
      "6236            824           106           6        810         10         4   \n",
      "6237            295            18           0        288          4         0   \n",
      "6238           1957           124          10       1908         27        21   \n",
      "6239           1730           161           4       1710         12         8   \n",
      "6240           1655            47           4       1632          9        13   \n",
      "6241            237            67           1        233          3         1   \n",
      "6242            360            22          10        347          2         5   \n",
      "6243           2635           308          11       2605         19        11   \n",
      "6244            324            45           3        280          0        17   \n",
      "6245           1271            94           9       1249         11         8   \n",
      "6246            851           100          11        834          5        10   \n",
      "6247           1992            36           1       1969         16         7   \n",
      "6248           4315            24           3       4241         51        19   \n",
      "6249           4114           104           3       4054         36        23   \n",
      "6250             95             3           2         90          2         3   \n",
      "6251            111             9           2        107          1         2   \n",
      "6252            796           143           9        791          5         0   \n",
      "6253            508            12           3        499          8         0   \n",
      "6254           2506           287          28       2483          9        12   \n",
      "6255            251            29           5        228          0         3   \n",
      "6256           1244           218           9       1226          5        12   \n",
      "6257             75             2           0         71          3         0   \n",
      "6258            867            90          11        858          1         7   \n",
      "6259             87             5           2         79          3         5   \n",
      "6260            614            78          15        599          7         8   \n",
      "6261           2420            75          17       2392         20         8   \n",
      "6262             86             5           3         80          2         4   \n",
      "6263            488            20           8        484          4         0   \n",
      "6264            157            16           3        145          1        11   \n",
      "6265            547            71           7        535          6         6   \n",
      "6266           1168           104          49       1133         17        17   \n",
      "6267            879           165          18        867          4         8   \n",
      "6268            114             6           1        108          3         3   \n",
      "6269            186            15           1        172          3        11   \n",
      "6270           1985            39          21       1961         11        12   \n",
      "6271            985            71          42        962          5        16   \n",
      "\n",
      "      num_hahas  num_sads  num_angrys  \n",
      "6221          0         0           0  \n",
      "6222          0         0           0  \n",
      "6223          2         0           0  \n",
      "6224          0         0           0  \n",
      "6225          0        46           0  \n",
      "6226          0         0           0  \n",
      "6227          1         0           0  \n",
      "6228          0         0           0  \n",
      "6229          0         0           0  \n",
      "6230          0         0           0  \n",
      "6231          0        12           0  \n",
      "6232          1         0           0  \n",
      "6233          0         0           0  \n",
      "6234          0         0           0  \n",
      "6235          1         0           0  \n",
      "6236          0         0           0  \n",
      "6237          0         3           0  \n",
      "6238          1         0           0  \n",
      "6239          0         0           0  \n",
      "6240          1         0           0  \n",
      "6241          0         0           0  \n",
      "6242          0         6           0  \n",
      "6243          0         0           0  \n",
      "6244          1        19           7  \n",
      "6245          2         1           0  \n",
      "6246          2         0           0  \n",
      "6247          0         0           0  \n",
      "6248          4         0           0  \n",
      "6249          0         1           0  \n",
      "6250          0         0           0  \n",
      "6251          1         0           0  \n",
      "6252          0         0           0  \n",
      "6253          1         0           0  \n",
      "6254          2         0           0  \n",
      "6255          0         1          19  \n",
      "6256          1         0           0  \n",
      "6257          1         0           0  \n",
      "6258          0         0           1  \n",
      "6259          0         0           0  \n",
      "6260          0         0           0  \n",
      "6261          0         0           0  \n",
      "6262          0         0           0  \n",
      "6263          0         0           0  \n",
      "6264          0         0           0  \n",
      "6265          0         0           0  \n",
      "6266          1         0           0  \n",
      "6267          0         0           0  \n",
      "6268          0         0           0  \n",
      "6269          0         0           0  \n",
      "6270          0         1           0  \n",
      "6271          2         0           0  \n"
     ]
    }
   ],
   "source": [
    "#dropping duplicated rows\n",
    "## Get duplicate rows\n",
    "duplicates = df.duplicated()\n",
    "df[duplicates].sort_values(by=\"status_id\")\n",
    "print(\"duplicated rows:\")\n",
    "print(df[duplicates])\n",
    "## Drop duplicates\n",
    "df.drop_duplicates(inplace = True,keep=\"first\")"
   ]
  },
  {
   "cell_type": "code",
   "execution_count": 368,
   "metadata": {},
   "outputs": [
    {
     "name": "stdout",
     "output_type": "stream",
     "text": [
      "\n",
      "Unique values per column:\n",
      "status_id           6997\n",
      "status_type            4\n",
      "status_published    6913\n",
      "num_reactions       1067\n",
      "num_comments         993\n",
      "num_shares           501\n",
      "num_likes           1044\n",
      "num_loves            229\n",
      "num_wows              65\n",
      "num_hahas             42\n",
      "num_sads              24\n",
      "num_angrys            14\n",
      "dtype: int64\n"
     ]
    }
   ],
   "source": [
    "# Display the number of unique values per column\n",
    "print(\"\\nUnique values per column:\")\n",
    "print(df.nunique())"
   ]
  },
  {
   "cell_type": "code",
   "execution_count": 369,
   "metadata": {},
   "outputs": [
    {
     "name": "stdout",
     "output_type": "stream",
     "text": [
      "Unique values in column 'status_id': 6997 unique value\n",
      "['246675545449582_1649696485147474' '246675545449582_1649426988507757'\n",
      " '246675545449582_1648730588577397' ...\n",
      " '1050855161656896_1060126464063099' '1050855161656896_1058663487542730'\n",
      " '1050855161656896_1050858841656528']\n",
      "\n",
      "\n",
      "Unique values in column 'status_type': 4 unique value\n",
      "['video' 'photo' 'link' 'status']\n",
      "\n",
      "\n",
      "Unique values in column 'status_published': 6913 unique value\n",
      "['4/22/2018 6:00' '4/21/2018 22:45' '4/21/2018 6:17' ... '9/21/2016 23:03'\n",
      " '9/20/2016 0:43' '9/10/2016 10:30']\n",
      "\n",
      "\n",
      "Unique values in column 'num_reactions': 1067 unique value\n",
      "[529 150 227 ... 558 570 415]\n",
      "\n",
      "\n",
      "Unique values in column 'num_comments': 993 unique value\n",
      "[  512     0   236     6   614   453     1     9     2     4    11   100\n",
      "   256   173   166    15     7    36    78   300    14     8   137   292\n",
      "    72    39   181   210    12   456    60   235   444    21   255   136\n",
      "   327   284   114    81   193    32   258    13   259   468   130   251\n",
      "   247    89   341   316   368    76    63   171   461   540     3    10\n",
      "    18    16    25   709  1979    17   145   116   157    46   120   486\n",
      "     5   199    77   825   805   449    49   589   558    31   424   131\n",
      "   525    24   491   633   588    20    23   417   355   564   110   605\n",
      "   158   888   911   996   574    34    28  1381   524    19   462    40\n",
      "   254   265   523   309    61    22   769    48    37   560   117   128\n",
      "   427    54    95   266    75   165  6148   103   195    84  1201   147\n",
      "   127    44   274  5498 19013  4661   432   383   169 20990    80    26\n",
      "    27   186    33   102    93    30    52   154    53   184    35    62\n",
      "   152   124   134    29    45   108   242    43    41   389   407    67\n",
      "    57   129   211   222   260   290   330   286   225   363    74    56\n",
      "   297   354   206   361   390   509    70   213   179   175   281    42\n",
      "    50    38    85    58    66    55    51   122   113   243   196   162\n",
      "   156   234   107    64    86   214    47  1222   553   816   612   457\n",
      "   785   694  3221  1060   904  1094  2428   715  1019   891    59   859\n",
      "   828    98  1268  1129  1377  2626   626  1490    65  4143  1214   974\n",
      "  2360  1233  3416   927   784  1066   892   794   998  1328  1092  1043\n",
      "   679   926  1121    87  1000  3014   119   505   495   944   649  1566\n",
      "  1828  1491  1086   508  2099   677   657   517  1354  1489  2297   504\n",
      "   583   516  1158 12003  7130   869  1215   551   810  5006   579  4741\n",
      "  1543  4162  3175  7783  3882  4761  4031  3420  6151   205   714    97\n",
      "   351   708   970   955   438   799   965   622   939   744  1154  1034\n",
      "  2025   637   233  1044   593  1372   959  1278  1156  1418   481   994\n",
      "  1346   764  1789  1053  5839   982   182  1250   866   662   507   315\n",
      "   645   841   803   778   606   860   464   570  1037   969   931   562\n",
      "  1776   217   566   280   683   559   627   382   240   257   183    82\n",
      "   126    68   132   278   104   237   197   252   226  5166   535  7895\n",
      "   733  6523   324   477  7208   133  4083  1715  5963  5204  6535  3919\n",
      "  4829   895  7061  3692  1909  5516  6622  7013  3740  4007  1061  6940\n",
      "  9452  1724  2041  7145  4018    69    83    88   821   981   591   723\n",
      "  1120   817  1734   272   333   408  1002   518  1229   450   360   746\n",
      "  1020   332   568   775   440   758   416   938    91    73   200   164\n",
      "    90   123    96   338   168   336   437   204   401   283   442   331\n",
      "   112  1131   902  1242  1177   909  1561  1358  2117  1249  1099  1473\n",
      "  1585   144  1325   923  1230  1609  1330  1293  2279   176  1153  1484\n",
      "  1765  1913  1220  6174  1727  1794  2257  1671  1469  1846  1920  1568\n",
      "  1499  1530  1267  1478  2092  2185  1890  1778  1936  1440  2314  2903\n",
      "   121  2153  1360   771   542  1076  1497  1151   887   647  1389  2925\n",
      "  1132  2571   878  1247  1309  2059   916  1276   436  1403  1624   636\n",
      "  1626   851   933  1950  1726  1384  1650   239  2458   311   783  1282\n",
      "  2478   151  1586  1961  1438  1245  1827  1625  1186   146   105   177\n",
      "   356   455   695   303   418   530   506   209   555   482   458   597\n",
      "   619   395   595   366   392   367   573   760   779   541   323   277\n",
      "   400   537   313   543   362   379   276   472   369   348   326   287\n",
      "   420   413   194   250   373   306   528   385   358   321   353   342\n",
      "   402   388   305   635   604   328   275   218   269  3360   346   396\n",
      "   391   404   419   304   319   299   220   386   384   398   307   335\n",
      "   347   295   526   864   375   703   623  1138   447   339   263   142\n",
      "   631   544   429   511   556   467   499   262   329   847   567   487\n",
      "   995   502   469   501  1122   590   853   857   722   767   630   423\n",
      "  1366  1800   584   498   439  1320   473   489   881   906   466   672\n",
      "   536   546   352   592   415   941   515    79   454   325   726   378\n",
      "   571  1030   793  1630  1688  1196   215  1311   476   270  1819   706\n",
      "   815   745   915  1221  1085  1430   885   718  1096  1080   809  1176\n",
      "  1270   898  1275  1008  2021  1820   914  1005  1689   548   656  1425\n",
      "  1003   913  1050  1145  1112   967  1119  1908  1942  1410  1487  1972\n",
      "   736  1017  3800  1169  1059   603  1069  1212   752  1762   470   459\n",
      "   202   519   664  1912   924  1140  3450  2409  1814  1594  2638  1039\n",
      "  1356  2979   359  2112   245  1562   443  1244  1503  1651  1199   293\n",
      "  1172   800   667   271  1051  1382  2798  2546   337  1082  1415  1661\n",
      "   798  1200  1133  1493   349  1113  1532  1259  1488  1934   229  1194\n",
      "  1056   625  1680  1209  1307  1374   433  1006  1591   545   294  1183\n",
      "  1142  1550  1168   405   908  1357  1315  1756   221  1516  1711  2379\n",
      "   948  1858   238   578  1045   377  1035   953   410  3053  1485  2195\n",
      "  1049   296   106   161   308    94   143    71  2365  1476  1641   844\n",
      "  1949  1529  2904  5491  3035  4066  1835  3456  1446  2842  3779  5352\n",
      "  6316  4068  2606  3994  2176  1569  2609  3000  5237  1875  2373  1435\n",
      "  1970  2113  2574  2068  1660  2719  1084  3958  2685  4845  1957  2744\n",
      "  2555  2948  3789  2339   118  3584   212 10186   357   282    92  4097\n",
      "   660  1753  4255   952  1191  1738   365   659   831   801   178   687\n",
      "  1343  1150   279  4267  1226  1834  7543  1335 10194   192   448   479\n",
      "  5514  2497  4300   529   497  3343  3022   139  5386  4272  4340  3392\n",
      "  3202   261  1646  2762  4444  4240  3287 17404 10960  3593  6942  5779\n",
      "  3892  9831   838   441  1966  5411  7751   150   613  7943 10926  4391\n",
      "  8601  7572  7524  3917  3449   755  9039   701  2863  5757  1839  4963\n",
      "   253  4336  5254  4462  2792  6407   350  4637  1686   824  1805  5995\n",
      "  1732  1540  1829  1431  2167  3529  4225  4214  4642  4615  2635  1078\n",
      "  3625  2773  1681  1577  1729  3146   870  3367  1773  3966  3683  1348\n",
      "  3863  5000   880  2641  2303  4487  5404  4432  4472]\n",
      "\n",
      "\n",
      "Unique values in column 'num_shares': 501 unique value\n",
      "[ 262    0   57   72   53    1    3    2   30   79   47   36   14    9\n",
      "   31   26   13    6   28   23   21   34   37   11   46  111   48   42\n",
      "   16   33   86   51   43   40   41   50   15  753   17    5   39   32\n",
      "   25    4   27    8  257    7  107   73   67   38   20   69   49   24\n",
      "   10  120   94  161  178   52   29  154  227  212   58   12   60 1260\n",
      "  191   64  105   78   87   19   62  106   76  122  103   92  119   93\n",
      "   35   18   68  101   98   65  226  152  246  201  155  261  145   70\n",
      "   54  173  242  223  177  235  273  232  168  109  174   74  186  150\n",
      "  151  244  719  180  140  200  158  836  136  254  187  243  274  231\n",
      "  159  149  181  334  114  268  144  133  276  157   89  208  108   56\n",
      "  169  281  607  856  734  118   71   59  224  698  176  482  128  293\n",
      "  458  498  287  297  328   63   45   88   96   85   81  117   75  121\n",
      "   66   95  139  131  192  210  142  477   55  100  138  690 1101   77\n",
      "  879  104   61  997  784  874  793  915  684  739  167 1003 1636  137\n",
      "  760 1026 1011  974  844 1055 1379  476 1136 1412  247   97  112   84\n",
      "  322  277  239  295  278  319  330  356  310  124  147  129  351  179\n",
      "  197   22  532  588  564  366  601 1100  597  503  335  541  404  544\n",
      "  352  529  341  726  364  506  377  677  415  517  570  628  375 1330\n",
      "  416   83  718 2139  568  429  770  866  685  627  413  905  750  747\n",
      " 1122 1618  525  410 1041 3424  796  536  165  550  340  408  241  526\n",
      "  818  318  815  396  454  113  508  528  193  489  510  236  560  549\n",
      "  635 1430  594  586  695  603  699  358  675  229  199  263  221  163\n",
      "  213  211  132  153  240  189  272  230  195  202  252  228  304  166\n",
      "  194  141  164  283  233  267  209  182  204  148  116  206  265  198\n",
      "  175  225  185  349  291  156  196  170  190  215  275  296  294  302\n",
      "  288  123  184  146  255  160  126  135  220  218  217  125  234  203\n",
      "  183  130  115  127  162  110  259  172  171  216  362  298  284  188\n",
      "  253  311  264  280  279  312  285  406  338  374  251  394  300  533\n",
      "  397  451  270  332  434  342  433  357  469  491  348  301  336   90\n",
      "  299  659  423  418   82  584  354  307  444  248  431  303  446  542\n",
      "  522  440  379  258  553  492  757  426  496  438  346  388  428  333\n",
      "  266  474  432  742  422  505  463  471  245  339  282  207  403  452\n",
      "  286  238  306  500  321  292  618  466  372  565  389  256  580  633\n",
      "  512  269  314  316  572  353  624  475  581  419  453  355  472  363\n",
      "  897  484  462  554  382  134  520  450  483  425  421  509  329  913\n",
      "  783  324  430  592  619  337  289  102   99   91  219]\n",
      "\n",
      "\n",
      "Unique values in column 'num_likes': 1044 unique value\n",
      "[432 150 204 ... 384 678 953]\n",
      "\n",
      "\n",
      "Unique values in column 'num_loves': 229 unique value\n",
      "[ 92   0  21   9   5  70  32   3   7   6   8  10  23  18  16  28  12  22\n",
      "   2   4  11  19  33  30  31  13  42  44  15  25  20  14  26   1  56  46\n",
      "  29  27  45 139  24  35  34  39  38  36  73  47  52 107  50 116  63 220\n",
      "  77 125  99 234  84  58  17  62 105  80  55  57 136 124 159  82  43  60\n",
      "  41  40  83  48  51  94  74  49  72  67  68  79 128 126 133  65 108 225\n",
      "  37  91  61  53 103  81  98  95  87 165 119  59  64  54  93 102 145  88\n",
      " 104 123 200 233 214 282 198 187 215 217 276 237 141  85 260 251 166 196\n",
      " 144  90 152 129 150 132 278  97 120 236 207 164 221 162 206 246 289 138\n",
      " 160 264 202 306 504 176 310 330 194 149 100 131 336 293 188 329 385 326\n",
      " 349 316 482 291 228 142 163 263 259 299 403 376 320 265 407 247 249 409\n",
      " 364 267 283 529 281 394 485 390 421 304 239 460 657 106  69  78  76  71\n",
      "  86  66  75  96 168 110 135 114 121 137 143 156 112 151 146 109 117 147\n",
      " 101 173 118 113  89 111 153 122 161 155 130 192 157]\n",
      "\n",
      "\n",
      "Unique values in column 'num_wows': 65 unique value\n",
      "[  3   0   1  10   4   2   7   9   5   6  17  11  12  21  13  14   8  15\n",
      "  26  16  18  57  28  38  31  46  98 114  90  22  76  74  69  51 278 106\n",
      " 200  35  89  25 104 138  32  45 252 150 111 123  55 177 108  39 206  33\n",
      " 103 139 105  43 122  29  49  68  65  19  23]\n",
      "\n",
      "\n",
      "Unique values in column 'num_hahas': 42 unique value\n",
      "[  1   0   2   5   3   8   4   6   7  13  10  40  24   9  22  11  14  23\n",
      " 102  16  17  97  57  48 100  50  12  15  18  76  91 157  20  29  33  25\n",
      "  28  19  43  32  26  21]\n",
      "\n",
      "\n",
      "Unique values in column 'num_sads': 24 unique value\n",
      "[ 1  0  3  8 19 22 10  2  4 23  6 28 13  5  7 17 51 21 37 11 46 12 14  9]\n",
      "\n",
      "\n",
      "Unique values in column 'num_angrys': 14 unique value\n",
      "[ 0  3  1  4  2  6 31  5 12  8  7 19 10  9]\n",
      "\n",
      "\n"
     ]
    }
   ],
   "source": [
    "for column in df.columns:\n",
    "    unique_values = df[column].unique()\n",
    "    print(f\"Unique values in column '{column}': {len(unique_values)} unique value\")\n",
    "    print(unique_values)\n",
    "    print(\"\\n\")  "
   ]
  },
  {
   "cell_type": "markdown",
   "metadata": {},
   "source": [
    "### main features in the dataset"
   ]
  },
  {
   "cell_type": "code",
   "execution_count": 370,
   "metadata": {},
   "outputs": [
    {
     "name": "stdout",
     "output_type": "stream",
     "text": [
      "\n",
      "Correlation matrix:\n",
      "               num_reactions  num_comments  num_shares  num_likes  num_loves  \\\n",
      "num_reactions       1.000000      0.156190    0.259640   0.994672   0.310645   \n",
      "num_comments        0.156190      1.000000    0.640536   0.105934   0.521320   \n",
      "num_shares          0.259640      0.640536    1.000000   0.179664   0.820284   \n",
      "num_likes           0.994672      0.105934    0.179664   1.000000   0.212715   \n",
      "num_loves           0.310645      0.521320    0.820284   0.212715   1.000000   \n",
      "num_wows            0.261694      0.163506    0.409803   0.200015   0.510148   \n",
      "num_hahas           0.179657      0.325064    0.399864   0.123129   0.507899   \n",
      "num_sads            0.082094      0.257545    0.218628   0.057110   0.226574   \n",
      "num_angrys          0.136064      0.239557    0.332355   0.096276   0.394818   \n",
      "\n",
      "               num_wows  num_hahas  num_sads  num_angrys  \n",
      "num_reactions  0.261694   0.179657  0.082094    0.136064  \n",
      "num_comments   0.163506   0.325064  0.257545    0.239557  \n",
      "num_shares     0.409803   0.399864  0.218628    0.332355  \n",
      "num_likes      0.200015   0.123129  0.057110    0.096276  \n",
      "num_loves      0.510148   0.507899  0.226574    0.394818  \n",
      "num_wows       1.000000   0.288468  0.091425    0.191672  \n",
      "num_hahas      0.288468   1.000000  0.154035    0.225083  \n",
      "num_sads       0.091425   0.154035  1.000000    0.143711  \n",
      "num_angrys     0.191672   0.225083  0.143711    1.000000  \n"
     ]
    }
   ],
   "source": [
    "# Display the correlation matrix (for numerical data)\n",
    "print(\"\\nCorrelation matrix:\")\n",
    "numerical_df = df.drop([\"status_id\",\"status_type\",\"status_published\"], axis=1)\n",
    "print(numerical_df.corr())"
   ]
  },
  {
   "cell_type": "code",
   "execution_count": 371,
   "metadata": {},
   "outputs": [],
   "source": [
    "new_df=df.drop([\"status_id\",\"status_published\",\"status_type\"],axis=1)"
   ]
  },
  {
   "cell_type": "markdown",
   "metadata": {},
   "source": [
    "# 2. Preprocess the Data"
   ]
  },
  {
   "cell_type": "markdown",
   "metadata": {},
   "source": [
    "### Standardizing the data"
   ]
  },
  {
   "cell_type": "code",
   "execution_count": 372,
   "metadata": {},
   "outputs": [
    {
     "data": {
      "text/plain": [
       "array([[ 2.26417905, -0.07891973],\n",
       "       [-0.62979816,  0.0562892 ],\n",
       "       [ 0.10038237, -0.03813099],\n",
       "       ...,\n",
       "       [-0.80860801, -0.37194337],\n",
       "       [-0.27070347,  0.58074218],\n",
       "       [-0.80040715, -0.32336044]])"
      ]
     },
     "execution_count": 372,
     "metadata": {},
     "output_type": "execute_result"
    }
   ],
   "source": [
    "from sklearn.preprocessing import StandardScaler\n",
    "scaler = StandardScaler()\n",
    "df_scaled = scaler.fit_transform(new_df)  \n",
    "\n",
    "from sklearn.decomposition import PCA\n",
    "pca = PCA(n_components=2)  \n",
    "reduced_data = pca.fit_transform(df_scaled)\n",
    "reduced_data\n"
   ]
  },
  {
   "cell_type": "markdown",
   "metadata": {},
   "source": [
    "### dimensionality reduction"
   ]
  },
  {
   "cell_type": "code",
   "execution_count": 373,
   "metadata": {},
   "outputs": [
    {
     "name": "stdout",
     "output_type": "stream",
     "text": [
      "the df shape:\n",
      "(6999, 2)\n",
      "   TSNE component 1  TSNE component 2\n",
      "0         46.037979        -21.062323\n",
      "1         24.534838         41.841400\n",
      "2         24.550703          2.422858\n",
      "3          9.739626         53.247734\n",
      "4         33.291092         21.133486\n"
     ]
    },
    {
     "data": {
      "text/plain": [
       "TSNE component 1    0\n",
       "TSNE component 2    0\n",
       "dtype: int64"
      ]
     },
     "execution_count": 373,
     "metadata": {},
     "output_type": "execute_result"
    }
   ],
   "source": [
    "###T-SNE \n",
    "import numpy as np\n",
    "from sklearn.manifold import TSNE\n",
    "tsne = TSNE(n_components=2, random_state=0)\n",
    "principalDf =tsne.fit_transform(reduced_data)\n",
    "finalDf = pd.DataFrame(data = principalDf, columns = ['TSNE component 1', 'TSNE component 2'])\n",
    "print(\"the df shape:\")\n",
    "print(finalDf.shape)\n",
    "print(finalDf.head())\n",
    "finalDf.isna().sum()"
   ]
  },
  {
   "cell_type": "code",
   "execution_count": 374,
   "metadata": {},
   "outputs": [
    {
     "data": {
      "text/plain": [
       "\"from sklearn.decomposition import PCA\\n\\npca = PCA(n_components=2)\\n\\nprincipalComponents = pca.fit_transform(reduced_data)\\n\\nprincipalDf = pd.DataFrame(data = principalComponents, columns = ['principal component 1', 'principal component 2'])\\nfinalDf = pd.concat([principalDf, df[['status_type']]], axis = 1)\\nprint(finalDf.shape)\\nfinalDf.isna().sum()\""
      ]
     },
     "execution_count": 374,
     "metadata": {},
     "output_type": "execute_result"
    }
   ],
   "source": [
    "###PCA \n",
    "\"\"\"from sklearn.decomposition import PCA\n",
    "\n",
    "pca = PCA(n_components=2)\n",
    "\n",
    "principalComponents = pca.fit_transform(reduced_data)\n",
    "\n",
    "principalDf = pd.DataFrame(data = principalComponents, columns = ['principal component 1', 'principal component 2'])\n",
    "finalDf = pd.concat([principalDf, df[['status_type']]], axis = 1)\n",
    "print(finalDf.shape)\n",
    "finalDf.isna().sum()\"\"\""
   ]
  },
  {
   "cell_type": "markdown",
   "metadata": {},
   "source": [
    "### Applying K-means Clustering with k=4"
   ]
  },
  {
   "cell_type": "code",
   "execution_count": 375,
   "metadata": {},
   "outputs": [
    {
     "name": "stdout",
     "output_type": "stream",
     "text": [
      "types   link  photo  status  video\n",
      "labels                            \n",
      "0          2    601      53   1351\n",
      "1         18   1112      20    402\n",
      "2         18   1419      65    212\n",
      "3         25   1112     221    368\n"
     ]
    }
   ],
   "source": [
    "from sklearn.cluster import KMeans\n",
    "model = KMeans(n_clusters=4)\n",
    "labels = model.fit_predict(finalDf)\n",
    "df_result = pd.DataFrame({'labels': labels, 'types': df[\"status_type\"]})\n",
    "ct = pd.crosstab(df_result['labels'],df_result['types'])\n",
    "print(ct)"
   ]
  },
  {
   "cell_type": "markdown",
   "metadata": {},
   "source": [
    "# 3. Apply K-means Clustering"
   ]
  },
  {
   "cell_type": "code",
   "execution_count": 376,
   "metadata": {},
   "outputs": [
    {
     "data": {
      "image/png": "[encoded data removed]",
      "text/plain": [
       "<Figure size 640x480 with 1 Axes>"
      ]
     },
     "metadata": {},
     "output_type": "display_data"
    }
   ],
   "source": [
    "ks = range(1, 7)\n",
    "inertias = []\n",
    "\n",
    "for k in ks:\n",
    "    # Create a KMeans instance with k clusters: model\n",
    "    model = KMeans(n_clusters=k)\n",
    "    \n",
    "    # Fit model to samples\n",
    "    model.fit(finalDf)\n",
    "    \n",
    "    # Append the inertia to the list of inertias\n",
    "    inertias.append(model.inertia_)\n",
    "    \n",
    "# Plot ks vs inertias\n",
    "plt.plot(ks, inertias, '-o')\n",
    "plt.xlabel('number of clusters, k')\n",
    "plt.ylabel('inertia')\n",
    "plt.xticks(ks)\n",
    "plt.show()\n"
   ]
  },
  {
   "cell_type": "code",
   "execution_count": 377,
   "metadata": {},
   "outputs": [
    {
     "name": "stdout",
     "output_type": "stream",
     "text": [
      "types   link  photo  status  video\n",
      "labels                            \n",
      "0         22   1191     220    425\n",
      "1         17   1106      21    329\n",
      "2         21   1439      76    230\n",
      "3          3    508      42   1349\n"
     ]
    }
   ],
   "source": [
    "from sklearn.cluster import KMeans\n",
    "model = KMeans(n_clusters=4)\n",
    "labels = model.fit_predict(finalDf)\n",
    "df_result = pd.DataFrame({'labels': labels, 'types': df[\"status_type\"]})\n",
    "ct = pd.crosstab(df_result['labels'],df_result['types'])\n",
    "print(ct)\n"
   ]
  },
  {
   "cell_type": "code",
   "execution_count": 385,
   "metadata": {},
   "outputs": [
    {
     "data": {
      "text/html": [
       "<div>\n",
       "<style scoped>\n",
       "    .dataframe tbody tr th:only-of-type {\n",
       "        vertical-align: middle;\n",
       "    }\n",
       "\n",
       "    .dataframe tbody tr th {\n",
       "        vertical-align: top;\n",
       "    }\n",
       "\n",
       "    .dataframe thead th {\n",
       "        text-align: right;\n",
       "    }\n",
       "</style>\n",
       "<table border=\"1\" class=\"dataframe\">\n",
       "  <thead>\n",
       "    <tr style=\"text-align: right;\">\n",
       "      <th></th>\n",
       "      <th>TSNE component 1</th>\n",
       "      <th>TSNE component 2</th>\n",
       "      <th>cluster</th>\n",
       "    </tr>\n",
       "  </thead>\n",
       "  <tbody>\n",
       "    <tr>\n",
       "      <th>0</th>\n",
       "      <td>46.037979</td>\n",
       "      <td>-21.062323</td>\n",
       "      <td>3.0</td>\n",
       "    </tr>\n",
       "    <tr>\n",
       "      <th>1</th>\n",
       "      <td>24.534838</td>\n",
       "      <td>41.841400</td>\n",
       "      <td>0.0</td>\n",
       "    </tr>\n",
       "    <tr>\n",
       "      <th>2</th>\n",
       "      <td>24.550703</td>\n",
       "      <td>2.422858</td>\n",
       "      <td>3.0</td>\n",
       "    </tr>\n",
       "    <tr>\n",
       "      <th>3</th>\n",
       "      <td>9.739626</td>\n",
       "      <td>53.247734</td>\n",
       "      <td>0.0</td>\n",
       "    </tr>\n",
       "    <tr>\n",
       "      <th>4</th>\n",
       "      <td>33.291092</td>\n",
       "      <td>21.133486</td>\n",
       "      <td>0.0</td>\n",
       "    </tr>\n",
       "    <tr>\n",
       "      <th>...</th>\n",
       "      <td>...</td>\n",
       "      <td>...</td>\n",
       "      <td>...</td>\n",
       "    </tr>\n",
       "    <tr>\n",
       "      <th>6994</th>\n",
       "      <td>-5.749324</td>\n",
       "      <td>57.017822</td>\n",
       "      <td>0.0</td>\n",
       "    </tr>\n",
       "    <tr>\n",
       "      <th>6995</th>\n",
       "      <td>-21.314190</td>\n",
       "      <td>18.818098</td>\n",
       "      <td>0.0</td>\n",
       "    </tr>\n",
       "    <tr>\n",
       "      <th>6996</th>\n",
       "      <td>-10.141106</td>\n",
       "      <td>-72.634125</td>\n",
       "      <td>3.0</td>\n",
       "    </tr>\n",
       "    <tr>\n",
       "      <th>6997</th>\n",
       "      <td>63.704746</td>\n",
       "      <td>20.327728</td>\n",
       "      <td>0.0</td>\n",
       "    </tr>\n",
       "    <tr>\n",
       "      <th>6998</th>\n",
       "      <td>-87.511963</td>\n",
       "      <td>-35.935448</td>\n",
       "      <td>2.0</td>\n",
       "    </tr>\n",
       "  </tbody>\n",
       "</table>\n",
       "<p>6999 rows × 3 columns</p>\n",
       "</div>"
      ],
      "text/plain": [
       "      TSNE component 1  TSNE component 2  cluster\n",
       "0            46.037979        -21.062323      3.0\n",
       "1            24.534838         41.841400      0.0\n",
       "2            24.550703          2.422858      3.0\n",
       "3             9.739626         53.247734      0.0\n",
       "4            33.291092         21.133486      0.0\n",
       "...                ...               ...      ...\n",
       "6994         -5.749324         57.017822      0.0\n",
       "6995        -21.314190         18.818098      0.0\n",
       "6996        -10.141106        -72.634125      3.0\n",
       "6997         63.704746         20.327728      0.0\n",
       "6998        -87.511963        -35.935448      2.0\n",
       "\n",
       "[6999 rows x 3 columns]"
      ]
     },
     "execution_count": 385,
     "metadata": {},
     "output_type": "execute_result"
    }
   ],
   "source": [
    "finalDf['cluster'] = df_result[\"labels\"]\n",
    "finalDf\n"
   ]
  },
  {
   "cell_type": "markdown",
   "metadata": {},
   "source": [
    "# 4. Interpret the Results"
   ]
  },
  {
   "cell_type": "code",
   "execution_count": 379,
   "metadata": {},
   "outputs": [
    {
     "ename": "ValueError",
     "evalue": "perplexity must be less than n_samples",
     "output_type": "error",
     "traceback": [
      "\u001b[0;31m---------------------------------------------------------------------------\u001b[0m",
      "\u001b[0;31mValueError\u001b[0m                                Traceback (most recent call last)",
      "Cell \u001b[0;32mIn[379], line 12\u001b[0m\n\u001b[1;32m      7\u001b[0m     plt\u001b[38;5;241m.\u001b[39mscatter(finalDf[\u001b[38;5;124m'\u001b[39m\u001b[38;5;124mTSNE component 1\u001b[39m\u001b[38;5;124m'\u001b[39m],\n\u001b[1;32m      8\u001b[0m                 finalDf[\u001b[38;5;124m'\u001b[39m\u001b[38;5;124mTSNE component 2\u001b[39m\u001b[38;5;124m'\u001b[39m],\n\u001b[1;32m      9\u001b[0m                 c\u001b[38;5;241m=\u001b[39mcolors[i], label\u001b[38;5;241m=\u001b[39m\u001b[38;5;124mf\u001b[39m\u001b[38;5;124m'\u001b[39m\u001b[38;5;124mCluster \u001b[39m\u001b[38;5;132;01m{\u001b[39;00mi\u001b[38;5;132;01m}\u001b[39;00m\u001b[38;5;124m'\u001b[39m, s\u001b[38;5;241m=\u001b[39m\u001b[38;5;241m50\u001b[39m)\n\u001b[1;32m     11\u001b[0m \u001b[38;5;66;03m# Plot centroids in t-SNE space\u001b[39;00m\n\u001b[0;32m---> 12\u001b[0m centroids_tsne \u001b[38;5;241m=\u001b[39m \u001b[43mtsne\u001b[49m\u001b[38;5;241;43m.\u001b[39;49m\u001b[43mfit_transform\u001b[49m\u001b[43m(\u001b[49m\u001b[43mmodel\u001b[49m\u001b[38;5;241;43m.\u001b[39;49m\u001b[43mcluster_centers_\u001b[49m\u001b[43m)\u001b[49m\n\u001b[1;32m     13\u001b[0m plt\u001b[38;5;241m.\u001b[39mscatter(centroids_tsne[:, \u001b[38;5;241m0\u001b[39m], centroids_tsne[:, \u001b[38;5;241m1\u001b[39m], c\u001b[38;5;241m=\u001b[39m\u001b[38;5;124m'\u001b[39m\u001b[38;5;124mblack\u001b[39m\u001b[38;5;124m'\u001b[39m, s\u001b[38;5;241m=\u001b[39m\u001b[38;5;241m200\u001b[39m, alpha\u001b[38;5;241m=\u001b[39m\u001b[38;5;241m0.6\u001b[39m, marker\u001b[38;5;241m=\u001b[39m\u001b[38;5;124m'\u001b[39m\u001b[38;5;124mX\u001b[39m\u001b[38;5;124m'\u001b[39m, label\u001b[38;5;241m=\u001b[39m\u001b[38;5;124m'\u001b[39m\u001b[38;5;124mCentroids\u001b[39m\u001b[38;5;124m'\u001b[39m)\n\u001b[1;32m     15\u001b[0m \u001b[38;5;66;03m# Add labels and title\u001b[39;00m\n",
      "File \u001b[0;32m~/Library/Python/3.9/lib/python/site-packages/sklearn/utils/_set_output.py:316\u001b[0m, in \u001b[0;36m_wrap_method_output.<locals>.wrapped\u001b[0;34m(self, X, *args, **kwargs)\u001b[0m\n\u001b[1;32m    314\u001b[0m \u001b[38;5;129m@wraps\u001b[39m(f)\n\u001b[1;32m    315\u001b[0m \u001b[38;5;28;01mdef\u001b[39;00m \u001b[38;5;21mwrapped\u001b[39m(\u001b[38;5;28mself\u001b[39m, X, \u001b[38;5;241m*\u001b[39margs, \u001b[38;5;241m*\u001b[39m\u001b[38;5;241m*\u001b[39mkwargs):\n\u001b[0;32m--> 316\u001b[0m     data_to_wrap \u001b[38;5;241m=\u001b[39m \u001b[43mf\u001b[49m\u001b[43m(\u001b[49m\u001b[38;5;28;43mself\u001b[39;49m\u001b[43m,\u001b[49m\u001b[43m \u001b[49m\u001b[43mX\u001b[49m\u001b[43m,\u001b[49m\u001b[43m \u001b[49m\u001b[38;5;241;43m*\u001b[39;49m\u001b[43margs\u001b[49m\u001b[43m,\u001b[49m\u001b[43m \u001b[49m\u001b[38;5;241;43m*\u001b[39;49m\u001b[38;5;241;43m*\u001b[39;49m\u001b[43mkwargs\u001b[49m\u001b[43m)\u001b[49m\n\u001b[1;32m    317\u001b[0m     \u001b[38;5;28;01mif\u001b[39;00m \u001b[38;5;28misinstance\u001b[39m(data_to_wrap, \u001b[38;5;28mtuple\u001b[39m):\n\u001b[1;32m    318\u001b[0m         \u001b[38;5;66;03m# only wrap the first output for cross decomposition\u001b[39;00m\n\u001b[1;32m    319\u001b[0m         return_tuple \u001b[38;5;241m=\u001b[39m (\n\u001b[1;32m    320\u001b[0m             _wrap_data_with_container(method, data_to_wrap[\u001b[38;5;241m0\u001b[39m], X, \u001b[38;5;28mself\u001b[39m),\n\u001b[1;32m    321\u001b[0m             \u001b[38;5;241m*\u001b[39mdata_to_wrap[\u001b[38;5;241m1\u001b[39m:],\n\u001b[1;32m    322\u001b[0m         )\n",
      "File \u001b[0;32m~/Library/Python/3.9/lib/python/site-packages/sklearn/base.py:1473\u001b[0m, in \u001b[0;36m_fit_context.<locals>.decorator.<locals>.wrapper\u001b[0;34m(estimator, *args, **kwargs)\u001b[0m\n\u001b[1;32m   1466\u001b[0m     estimator\u001b[38;5;241m.\u001b[39m_validate_params()\n\u001b[1;32m   1468\u001b[0m \u001b[38;5;28;01mwith\u001b[39;00m config_context(\n\u001b[1;32m   1469\u001b[0m     skip_parameter_validation\u001b[38;5;241m=\u001b[39m(\n\u001b[1;32m   1470\u001b[0m         prefer_skip_nested_validation \u001b[38;5;129;01mor\u001b[39;00m global_skip_validation\n\u001b[1;32m   1471\u001b[0m     )\n\u001b[1;32m   1472\u001b[0m ):\n\u001b[0;32m-> 1473\u001b[0m     \u001b[38;5;28;01mreturn\u001b[39;00m \u001b[43mfit_method\u001b[49m\u001b[43m(\u001b[49m\u001b[43mestimator\u001b[49m\u001b[43m,\u001b[49m\u001b[43m \u001b[49m\u001b[38;5;241;43m*\u001b[39;49m\u001b[43margs\u001b[49m\u001b[43m,\u001b[49m\u001b[43m \u001b[49m\u001b[38;5;241;43m*\u001b[39;49m\u001b[38;5;241;43m*\u001b[39;49m\u001b[43mkwargs\u001b[49m\u001b[43m)\u001b[49m\n",
      "File \u001b[0;32m~/Library/Python/3.9/lib/python/site-packages/sklearn/manifold/_t_sne.py:1175\u001b[0m, in \u001b[0;36mTSNE.fit_transform\u001b[0;34m(self, X, y)\u001b[0m\n\u001b[1;32m   1172\u001b[0m \u001b[38;5;28;01melse\u001b[39;00m:\n\u001b[1;32m   1173\u001b[0m     \u001b[38;5;28mself\u001b[39m\u001b[38;5;241m.\u001b[39m_max_iter \u001b[38;5;241m=\u001b[39m \u001b[38;5;28mself\u001b[39m\u001b[38;5;241m.\u001b[39mmax_iter\n\u001b[0;32m-> 1175\u001b[0m \u001b[38;5;28;43mself\u001b[39;49m\u001b[38;5;241;43m.\u001b[39;49m\u001b[43m_check_params_vs_input\u001b[49m\u001b[43m(\u001b[49m\u001b[43mX\u001b[49m\u001b[43m)\u001b[49m\n\u001b[1;32m   1176\u001b[0m embedding \u001b[38;5;241m=\u001b[39m \u001b[38;5;28mself\u001b[39m\u001b[38;5;241m.\u001b[39m_fit(X)\n\u001b[1;32m   1177\u001b[0m \u001b[38;5;28mself\u001b[39m\u001b[38;5;241m.\u001b[39membedding_ \u001b[38;5;241m=\u001b[39m embedding\n",
      "File \u001b[0;32m~/Library/Python/3.9/lib/python/site-packages/sklearn/manifold/_t_sne.py:864\u001b[0m, in \u001b[0;36mTSNE._check_params_vs_input\u001b[0;34m(self, X)\u001b[0m\n\u001b[1;32m    862\u001b[0m \u001b[38;5;28;01mdef\u001b[39;00m \u001b[38;5;21m_check_params_vs_input\u001b[39m(\u001b[38;5;28mself\u001b[39m, X):\n\u001b[1;32m    863\u001b[0m     \u001b[38;5;28;01mif\u001b[39;00m \u001b[38;5;28mself\u001b[39m\u001b[38;5;241m.\u001b[39mperplexity \u001b[38;5;241m>\u001b[39m\u001b[38;5;241m=\u001b[39m X\u001b[38;5;241m.\u001b[39mshape[\u001b[38;5;241m0\u001b[39m]:\n\u001b[0;32m--> 864\u001b[0m         \u001b[38;5;28;01mraise\u001b[39;00m \u001b[38;5;167;01mValueError\u001b[39;00m(\u001b[38;5;124m\"\u001b[39m\u001b[38;5;124mperplexity must be less than n_samples\u001b[39m\u001b[38;5;124m\"\u001b[39m)\n",
      "\u001b[0;31mValueError\u001b[0m: perplexity must be less than n_samples"
     ]
    },
    {
     "data": {
      "image/png": "[encoded data removed]",
      "text/plain": [
       "<Figure size 800x800 with 1 Axes>"
      ]
     },
     "metadata": {},
     "output_type": "display_data"
    }
   ],
   "source": [
    "colors = ['r', 'g', 'b', 'y']\n",
    "plt.figure(figsize=(8, 8))\n",
    "\n",
    "# Plot each cluster\n",
    "for i in range(4):  # Assuming 4 clusters\n",
    "    cluster_data = finalDf[finalDf['cluster'] == i]\n",
    "    plt.scatter(finalDf['TSNE component 1'],\n",
    "                finalDf['TSNE component 2'],\n",
    "                c=colors[i], label=f'Cluster {i}', s=50)\n",
    "\n",
    "# Plot centroids in t-SNE space\n",
    "centroids_tsne = tsne.fit_transform(model.cluster_centers_)\n",
    "plt.scatter(centroids_tsne[:, 0], centroids_tsne[:, 1], c='black', s=200, alpha=0.6, marker='X', label='Centroids')\n",
    "\n",
    "# Add labels and title\n",
    "plt.xlabel('t-SNE Component 1')\n",
    "plt.ylabel('t-SNE Component 2')\n",
    "plt.title('Clusters and Centroids in t-SNE Space')\n",
    "plt.legend()\n",
    "plt.grid()\n",
    "plt.show()"
   ]
  },
  {
   "cell_type": "markdown",
   "metadata": {},
   "source": [
    "There is no clear distinctions between the clusters !"
   ]
  },
  {
   "cell_type": "code",
   "execution_count": 381,
   "metadata": {},
   "outputs": [
    {
     "ename": "ValueError",
     "evalue": "Could not interpret value `Cluster` for `hue`. An entry with this name does not appear in `data`.",
     "output_type": "error",
     "traceback": [
      "\u001b[0;31m---------------------------------------------------------------------------\u001b[0m",
      "\u001b[0;31mValueError\u001b[0m                                Traceback (most recent call last)",
      "Cell \u001b[0;32mIn[381], line 3\u001b[0m\n\u001b[1;32m      1\u001b[0m \u001b[38;5;66;03m#Plotting the clusters\u001b[39;00m\n\u001b[1;32m      2\u001b[0m plt\u001b[38;5;241m.\u001b[39mfigure(figsize\u001b[38;5;241m=\u001b[39m(\u001b[38;5;241m10\u001b[39m,\u001b[38;5;241m10\u001b[39m))\n\u001b[0;32m----> 3\u001b[0m \u001b[43msns\u001b[49m\u001b[38;5;241;43m.\u001b[39;49m\u001b[43mscatterplot\u001b[49m\u001b[43m(\u001b[49m\u001b[43mdata\u001b[49m\u001b[38;5;241;43m=\u001b[39;49m\u001b[43mfinalDf\u001b[49m\u001b[43m,\u001b[49m\u001b[43mx\u001b[49m\u001b[38;5;241;43m=\u001b[39;49m\u001b[38;5;124;43m'\u001b[39;49m\u001b[38;5;124;43mTSNE component 1\u001b[39;49m\u001b[38;5;124;43m'\u001b[39;49m\u001b[43m,\u001b[49m\u001b[43my\u001b[49m\u001b[38;5;241;43m=\u001b[39;49m\u001b[38;5;124;43m'\u001b[39;49m\u001b[38;5;124;43mTSNE component 2\u001b[39;49m\u001b[38;5;124;43m'\u001b[39;49m\u001b[43m,\u001b[49m\u001b[43mhue\u001b[49m\u001b[38;5;241;43m=\u001b[39;49m\u001b[38;5;124;43m'\u001b[39;49m\u001b[38;5;124;43mCluster\u001b[39;49m\u001b[38;5;124;43m'\u001b[39;49m\u001b[43m,\u001b[49m\u001b[43mpalette\u001b[49m\u001b[38;5;241;43m=\u001b[39;49m\u001b[38;5;124;43m'\u001b[39;49m\u001b[38;5;124;43mviridis\u001b[39;49m\u001b[38;5;124;43m'\u001b[39;49m\u001b[43m,\u001b[49m\u001b[43ms\u001b[49m\u001b[38;5;241;43m=\u001b[39;49m\u001b[38;5;241;43m100\u001b[39;49m\u001b[43m,\u001b[49m\u001b[43malpha\u001b[49m\u001b[38;5;241;43m=\u001b[39;49m\u001b[38;5;241;43m0.7\u001b[39;49m\u001b[43m)\u001b[49m\n\u001b[1;32m      6\u001b[0m plt\u001b[38;5;241m.\u001b[39mshow()\n",
      "File \u001b[0;32m~/Library/Python/3.9/lib/python/site-packages/seaborn/relational.py:615\u001b[0m, in \u001b[0;36mscatterplot\u001b[0;34m(data, x, y, hue, size, style, palette, hue_order, hue_norm, sizes, size_order, size_norm, markers, style_order, legend, ax, **kwargs)\u001b[0m\n\u001b[1;32m    606\u001b[0m \u001b[38;5;28;01mdef\u001b[39;00m \u001b[38;5;21mscatterplot\u001b[39m(\n\u001b[1;32m    607\u001b[0m     data\u001b[38;5;241m=\u001b[39m\u001b[38;5;28;01mNone\u001b[39;00m, \u001b[38;5;241m*\u001b[39m,\n\u001b[1;32m    608\u001b[0m     x\u001b[38;5;241m=\u001b[39m\u001b[38;5;28;01mNone\u001b[39;00m, y\u001b[38;5;241m=\u001b[39m\u001b[38;5;28;01mNone\u001b[39;00m, hue\u001b[38;5;241m=\u001b[39m\u001b[38;5;28;01mNone\u001b[39;00m, size\u001b[38;5;241m=\u001b[39m\u001b[38;5;28;01mNone\u001b[39;00m, style\u001b[38;5;241m=\u001b[39m\u001b[38;5;28;01mNone\u001b[39;00m,\n\u001b[0;32m   (...)\u001b[0m\n\u001b[1;32m    612\u001b[0m     \u001b[38;5;241m*\u001b[39m\u001b[38;5;241m*\u001b[39mkwargs\n\u001b[1;32m    613\u001b[0m ):\n\u001b[0;32m--> 615\u001b[0m     p \u001b[38;5;241m=\u001b[39m \u001b[43m_ScatterPlotter\u001b[49m\u001b[43m(\u001b[49m\n\u001b[1;32m    616\u001b[0m \u001b[43m        \u001b[49m\u001b[43mdata\u001b[49m\u001b[38;5;241;43m=\u001b[39;49m\u001b[43mdata\u001b[49m\u001b[43m,\u001b[49m\n\u001b[1;32m    617\u001b[0m \u001b[43m        \u001b[49m\u001b[43mvariables\u001b[49m\u001b[38;5;241;43m=\u001b[39;49m\u001b[38;5;28;43mdict\u001b[39;49m\u001b[43m(\u001b[49m\u001b[43mx\u001b[49m\u001b[38;5;241;43m=\u001b[39;49m\u001b[43mx\u001b[49m\u001b[43m,\u001b[49m\u001b[43m \u001b[49m\u001b[43my\u001b[49m\u001b[38;5;241;43m=\u001b[39;49m\u001b[43my\u001b[49m\u001b[43m,\u001b[49m\u001b[43m \u001b[49m\u001b[43mhue\u001b[49m\u001b[38;5;241;43m=\u001b[39;49m\u001b[43mhue\u001b[49m\u001b[43m,\u001b[49m\u001b[43m \u001b[49m\u001b[43msize\u001b[49m\u001b[38;5;241;43m=\u001b[39;49m\u001b[43msize\u001b[49m\u001b[43m,\u001b[49m\u001b[43m \u001b[49m\u001b[43mstyle\u001b[49m\u001b[38;5;241;43m=\u001b[39;49m\u001b[43mstyle\u001b[49m\u001b[43m)\u001b[49m\u001b[43m,\u001b[49m\n\u001b[1;32m    618\u001b[0m \u001b[43m        \u001b[49m\u001b[43mlegend\u001b[49m\u001b[38;5;241;43m=\u001b[39;49m\u001b[43mlegend\u001b[49m\n\u001b[1;32m    619\u001b[0m \u001b[43m    \u001b[49m\u001b[43m)\u001b[49m\n\u001b[1;32m    621\u001b[0m     p\u001b[38;5;241m.\u001b[39mmap_hue(palette\u001b[38;5;241m=\u001b[39mpalette, order\u001b[38;5;241m=\u001b[39mhue_order, norm\u001b[38;5;241m=\u001b[39mhue_norm)\n\u001b[1;32m    622\u001b[0m     p\u001b[38;5;241m.\u001b[39mmap_size(sizes\u001b[38;5;241m=\u001b[39msizes, order\u001b[38;5;241m=\u001b[39msize_order, norm\u001b[38;5;241m=\u001b[39msize_norm)\n",
      "File \u001b[0;32m~/Library/Python/3.9/lib/python/site-packages/seaborn/relational.py:396\u001b[0m, in \u001b[0;36m_ScatterPlotter.__init__\u001b[0;34m(self, data, variables, legend)\u001b[0m\n\u001b[1;32m    387\u001b[0m \u001b[38;5;28;01mdef\u001b[39;00m \u001b[38;5;21m__init__\u001b[39m(\u001b[38;5;28mself\u001b[39m, \u001b[38;5;241m*\u001b[39m, data\u001b[38;5;241m=\u001b[39m\u001b[38;5;28;01mNone\u001b[39;00m, variables\u001b[38;5;241m=\u001b[39m{}, legend\u001b[38;5;241m=\u001b[39m\u001b[38;5;28;01mNone\u001b[39;00m):\n\u001b[1;32m    388\u001b[0m \n\u001b[1;32m    389\u001b[0m     \u001b[38;5;66;03m# TODO this is messy, we want the mapping to be agnostic about\u001b[39;00m\n\u001b[1;32m    390\u001b[0m     \u001b[38;5;66;03m# the kind of plot to draw, but for the time being we need to set\u001b[39;00m\n\u001b[1;32m    391\u001b[0m     \u001b[38;5;66;03m# this information so the SizeMapping can use it\u001b[39;00m\n\u001b[1;32m    392\u001b[0m     \u001b[38;5;28mself\u001b[39m\u001b[38;5;241m.\u001b[39m_default_size_range \u001b[38;5;241m=\u001b[39m (\n\u001b[1;32m    393\u001b[0m         np\u001b[38;5;241m.\u001b[39mr_[\u001b[38;5;241m.5\u001b[39m, \u001b[38;5;241m2\u001b[39m] \u001b[38;5;241m*\u001b[39m np\u001b[38;5;241m.\u001b[39msquare(mpl\u001b[38;5;241m.\u001b[39mrcParams[\u001b[38;5;124m\"\u001b[39m\u001b[38;5;124mlines.markersize\u001b[39m\u001b[38;5;124m\"\u001b[39m])\n\u001b[1;32m    394\u001b[0m     )\n\u001b[0;32m--> 396\u001b[0m     \u001b[38;5;28;43msuper\u001b[39;49m\u001b[43m(\u001b[49m\u001b[43m)\u001b[49m\u001b[38;5;241;43m.\u001b[39;49m\u001b[38;5;21;43m__init__\u001b[39;49m\u001b[43m(\u001b[49m\u001b[43mdata\u001b[49m\u001b[38;5;241;43m=\u001b[39;49m\u001b[43mdata\u001b[49m\u001b[43m,\u001b[49m\u001b[43m \u001b[49m\u001b[43mvariables\u001b[49m\u001b[38;5;241;43m=\u001b[39;49m\u001b[43mvariables\u001b[49m\u001b[43m)\u001b[49m\n\u001b[1;32m    398\u001b[0m     \u001b[38;5;28mself\u001b[39m\u001b[38;5;241m.\u001b[39mlegend \u001b[38;5;241m=\u001b[39m legend\n",
      "File \u001b[0;32m~/Library/Python/3.9/lib/python/site-packages/seaborn/_base.py:634\u001b[0m, in \u001b[0;36mVectorPlotter.__init__\u001b[0;34m(self, data, variables)\u001b[0m\n\u001b[1;32m    629\u001b[0m \u001b[38;5;66;03m# var_ordered is relevant only for categorical axis variables, and may\u001b[39;00m\n\u001b[1;32m    630\u001b[0m \u001b[38;5;66;03m# be better handled by an internal axis information object that tracks\u001b[39;00m\n\u001b[1;32m    631\u001b[0m \u001b[38;5;66;03m# such information and is set up by the scale_* methods. The analogous\u001b[39;00m\n\u001b[1;32m    632\u001b[0m \u001b[38;5;66;03m# information for numeric axes would be information about log scales.\u001b[39;00m\n\u001b[1;32m    633\u001b[0m \u001b[38;5;28mself\u001b[39m\u001b[38;5;241m.\u001b[39m_var_ordered \u001b[38;5;241m=\u001b[39m {\u001b[38;5;124m\"\u001b[39m\u001b[38;5;124mx\u001b[39m\u001b[38;5;124m\"\u001b[39m: \u001b[38;5;28;01mFalse\u001b[39;00m, \u001b[38;5;124m\"\u001b[39m\u001b[38;5;124my\u001b[39m\u001b[38;5;124m\"\u001b[39m: \u001b[38;5;28;01mFalse\u001b[39;00m}  \u001b[38;5;66;03m# alt., used DefaultDict\u001b[39;00m\n\u001b[0;32m--> 634\u001b[0m \u001b[38;5;28;43mself\u001b[39;49m\u001b[38;5;241;43m.\u001b[39;49m\u001b[43massign_variables\u001b[49m\u001b[43m(\u001b[49m\u001b[43mdata\u001b[49m\u001b[43m,\u001b[49m\u001b[43m \u001b[49m\u001b[43mvariables\u001b[49m\u001b[43m)\u001b[49m\n\u001b[1;32m    636\u001b[0m \u001b[38;5;66;03m# TODO Lots of tests assume that these are called to initialize the\u001b[39;00m\n\u001b[1;32m    637\u001b[0m \u001b[38;5;66;03m# mappings to default values on class initialization. I'd prefer to\u001b[39;00m\n\u001b[1;32m    638\u001b[0m \u001b[38;5;66;03m# move away from that and only have a mapping when explicitly called.\u001b[39;00m\n\u001b[1;32m    639\u001b[0m \u001b[38;5;28;01mfor\u001b[39;00m var \u001b[38;5;129;01min\u001b[39;00m [\u001b[38;5;124m\"\u001b[39m\u001b[38;5;124mhue\u001b[39m\u001b[38;5;124m\"\u001b[39m, \u001b[38;5;124m\"\u001b[39m\u001b[38;5;124msize\u001b[39m\u001b[38;5;124m\"\u001b[39m, \u001b[38;5;124m\"\u001b[39m\u001b[38;5;124mstyle\u001b[39m\u001b[38;5;124m\"\u001b[39m]:\n",
      "File \u001b[0;32m~/Library/Python/3.9/lib/python/site-packages/seaborn/_base.py:679\u001b[0m, in \u001b[0;36mVectorPlotter.assign_variables\u001b[0;34m(self, data, variables)\u001b[0m\n\u001b[1;32m    674\u001b[0m \u001b[38;5;28;01melse\u001b[39;00m:\n\u001b[1;32m    675\u001b[0m     \u001b[38;5;66;03m# When dealing with long-form input, use the newer PlotData\u001b[39;00m\n\u001b[1;32m    676\u001b[0m     \u001b[38;5;66;03m# object (internal but introduced for the objects interface)\u001b[39;00m\n\u001b[1;32m    677\u001b[0m     \u001b[38;5;66;03m# to centralize / standardize data consumption logic.\u001b[39;00m\n\u001b[1;32m    678\u001b[0m     \u001b[38;5;28mself\u001b[39m\u001b[38;5;241m.\u001b[39minput_format \u001b[38;5;241m=\u001b[39m \u001b[38;5;124m\"\u001b[39m\u001b[38;5;124mlong\u001b[39m\u001b[38;5;124m\"\u001b[39m\n\u001b[0;32m--> 679\u001b[0m     plot_data \u001b[38;5;241m=\u001b[39m \u001b[43mPlotData\u001b[49m\u001b[43m(\u001b[49m\u001b[43mdata\u001b[49m\u001b[43m,\u001b[49m\u001b[43m \u001b[49m\u001b[43mvariables\u001b[49m\u001b[43m)\u001b[49m\n\u001b[1;32m    680\u001b[0m     frame \u001b[38;5;241m=\u001b[39m plot_data\u001b[38;5;241m.\u001b[39mframe\n\u001b[1;32m    681\u001b[0m     names \u001b[38;5;241m=\u001b[39m plot_data\u001b[38;5;241m.\u001b[39mnames\n",
      "File \u001b[0;32m~/Library/Python/3.9/lib/python/site-packages/seaborn/_core/data.py:58\u001b[0m, in \u001b[0;36mPlotData.__init__\u001b[0;34m(self, data, variables)\u001b[0m\n\u001b[1;32m     51\u001b[0m \u001b[38;5;28;01mdef\u001b[39;00m \u001b[38;5;21m__init__\u001b[39m(\n\u001b[1;32m     52\u001b[0m     \u001b[38;5;28mself\u001b[39m,\n\u001b[1;32m     53\u001b[0m     data: DataSource,\n\u001b[1;32m     54\u001b[0m     variables: \u001b[38;5;28mdict\u001b[39m[\u001b[38;5;28mstr\u001b[39m, VariableSpec],\n\u001b[1;32m     55\u001b[0m ):\n\u001b[1;32m     57\u001b[0m     data \u001b[38;5;241m=\u001b[39m handle_data_source(data)\n\u001b[0;32m---> 58\u001b[0m     frame, names, ids \u001b[38;5;241m=\u001b[39m \u001b[38;5;28;43mself\u001b[39;49m\u001b[38;5;241;43m.\u001b[39;49m\u001b[43m_assign_variables\u001b[49m\u001b[43m(\u001b[49m\u001b[43mdata\u001b[49m\u001b[43m,\u001b[49m\u001b[43m \u001b[49m\u001b[43mvariables\u001b[49m\u001b[43m)\u001b[49m\n\u001b[1;32m     60\u001b[0m     \u001b[38;5;28mself\u001b[39m\u001b[38;5;241m.\u001b[39mframe \u001b[38;5;241m=\u001b[39m frame\n\u001b[1;32m     61\u001b[0m     \u001b[38;5;28mself\u001b[39m\u001b[38;5;241m.\u001b[39mnames \u001b[38;5;241m=\u001b[39m names\n",
      "File \u001b[0;32m~/Library/Python/3.9/lib/python/site-packages/seaborn/_core/data.py:232\u001b[0m, in \u001b[0;36mPlotData._assign_variables\u001b[0;34m(self, data, variables)\u001b[0m\n\u001b[1;32m    230\u001b[0m     \u001b[38;5;28;01melse\u001b[39;00m:\n\u001b[1;32m    231\u001b[0m         err \u001b[38;5;241m+\u001b[39m\u001b[38;5;241m=\u001b[39m \u001b[38;5;124m\"\u001b[39m\u001b[38;5;124mAn entry with this name does not appear in `data`.\u001b[39m\u001b[38;5;124m\"\u001b[39m\n\u001b[0;32m--> 232\u001b[0m     \u001b[38;5;28;01mraise\u001b[39;00m \u001b[38;5;167;01mValueError\u001b[39;00m(err)\n\u001b[1;32m    234\u001b[0m \u001b[38;5;28;01melse\u001b[39;00m:\n\u001b[1;32m    235\u001b[0m \n\u001b[1;32m    236\u001b[0m     \u001b[38;5;66;03m# Otherwise, assume the value somehow represents data\u001b[39;00m\n\u001b[1;32m    237\u001b[0m \n\u001b[1;32m    238\u001b[0m     \u001b[38;5;66;03m# Ignore empty data structures\u001b[39;00m\n\u001b[1;32m    239\u001b[0m     \u001b[38;5;28;01mif\u001b[39;00m \u001b[38;5;28misinstance\u001b[39m(val, Sized) \u001b[38;5;129;01mand\u001b[39;00m \u001b[38;5;28mlen\u001b[39m(val) \u001b[38;5;241m==\u001b[39m \u001b[38;5;241m0\u001b[39m:\n",
      "\u001b[0;31mValueError\u001b[0m: Could not interpret value `Cluster` for `hue`. An entry with this name does not appear in `data`."
     ]
    },
    {
     "data": {
      "text/plain": [
       "<Figure size 1000x1000 with 0 Axes>"
      ]
     },
     "metadata": {},
     "output_type": "display_data"
    }
   ],
   "source": [
    "#Plotting the clusters\n",
    "plt.figure(figsize=(10,10))\n",
    "sns.scatterplot(data=finalDf,x='TSNE component 1',y='TSNE component 2',hue='',palette='viridis',s=100,alpha=0.7)\n",
    "\n",
    "\n",
    "plt.show()"
   ]
  }
 ],
 "metadata": {
  "kernelspec": {
   "display_name": "Python 3",
   "language": "python",
   "name": "python3"
  },
  "language_info": {
   "codemirror_mode": {
    "name": "ipython",
    "version": 3
   },
   "file_extension": ".py",
   "mimetype": "text/x-python",
   "name": "python",
   "nbconvert_exporter": "python",
   "pygments_lexer": "ipython3",
   "version": "3.9.6"
  }
 },
 "nbformat": 4,
 "nbformat_minor": 2
}
